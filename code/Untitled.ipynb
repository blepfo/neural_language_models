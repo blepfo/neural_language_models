{
 "cells": [
  {
   "cell_type": "code",
   "execution_count": 12,
   "metadata": {
    "collapsed": false,
    "scrolled": true
   },
   "outputs": [
    {
     "data": {
      "text/plain": [
       "([array([ 0.,  0.,  0.,  0.,  0.,  0.,  0.,  0.,  0.,  0.]),\n",
       "  array([-0.75239014, -0.48076763, -0.5207496 , -0.52857098, -0.67816669,\n",
       "         -0.63513483, -0.4319956 , -0.20880006, -0.72680126, -0.60219613]),\n",
       "  array([ 0.95814774,  0.99158536,  0.99726496,  0.99434867,  0.99165547,\n",
       "          0.95729338,  0.99654249,  0.97766335,  0.9914898 ,  0.967347  ]),\n",
       "  array([-0.9998658 , -0.99997334, -0.99999598, -0.99998769, -0.99999715,\n",
       "         -0.99991558, -0.99999605, -0.99996277, -0.99999622, -0.99997646]),\n",
       "  array([ 0.99946003,  0.99990934,  0.99998581,  0.99995358,  0.99997566,\n",
       "          0.99937835,  0.99997639,  0.99967912,  0.99997451,  0.99952117]),\n",
       "  array([-0.99987531, -0.99998668, -0.99999912, -0.99999465, -0.99999801,\n",
       "         -0.99995687, -0.99999302, -0.99995185, -0.99999868, -0.99996931])],\n",
       " [array([ 0.99271036,  0.99462241,  0.96501701,  0.98558133,  0.98626243,\n",
       "          0.98500421,  0.99664995,  0.98769452,  0.99467551,  0.99867098,\n",
       "          0.99744451,  0.99685213,  0.99624032,  0.96569864,  0.98360197,\n",
       "          0.99376546,  0.99707535,  0.99868231,  0.98080182,  0.99179052,\n",
       "          0.99043182,  0.99517796,  0.99347586,  0.99732094,  0.97988195]),\n",
       "  array([-0.99982749, -0.99987325, -0.99864461, -0.99950517, -0.99954959,\n",
       "         -0.99933193, -0.99995565, -0.99963853, -0.99993243, -0.99998874,\n",
       "         -0.99998004, -0.99994955, -0.99998297, -0.99814918, -0.99935685,\n",
       "         -0.99992604, -0.99997366, -0.99999685, -0.99964481, -0.9999289 ,\n",
       "         -0.99956477, -0.99997719, -0.99988819, -0.99998658, -0.99943494]),\n",
       "  array([ 0.99985031,  0.99989631,  0.99874654,  0.99958298,  0.99960141,\n",
       "          0.9994437 ,  0.99996525,  0.99968287,  0.99994173,  0.99999069,\n",
       "          0.99998441,  0.9999593 ,  0.99998574,  0.99838658,  0.99944212,\n",
       "          0.99993742,  0.99997859,  0.99999742,  0.99969004,  0.99993775,\n",
       "          0.9996453 ,  0.99998193,  0.9999044 ,  0.99998966,  0.99949886]),\n",
       "  array([-0.99985009, -0.99989608, -0.99874568, -0.99958224, -0.9996009 ,\n",
       "         -0.99944257, -0.99996516, -0.99968246, -0.99994164, -0.99999067,\n",
       "         -0.99998436, -0.99995921, -0.99998572, -0.99838421, -0.99944128,\n",
       "         -0.9999373 , -0.99997855, -0.99999742, -0.99968962, -0.99993766,\n",
       "         -0.99964453, -0.99998189, -0.99990426, -0.99998963, -0.99949823]),\n",
       "  array([ 0.99985031,  0.99989631,  0.99874656,  0.99958301,  0.99960142,\n",
       "          0.99944376,  0.99996526,  0.99968288,  0.99994173,  0.99999069,\n",
       "          0.99998441,  0.9999593 ,  0.99998574,  0.9983867 ,  0.99944216,\n",
       "          0.99993742,  0.99997859,  0.99999742,  0.99969006,  0.99993775,\n",
       "          0.99964533,  0.99998194,  0.99990441,  0.99998966,  0.99949887])])"
      ]
     },
     "execution_count": 12,
     "metadata": {},
     "output_type": "execute_result"
    }
   ],
   "source": [
    "# Helper functions to load pickled data \n",
    "from load_help import load_encodings\n",
    "from load_help import load_decodings\n",
    "from load_help import load_training\n",
    "from load_help import load_testing\n",
    "\n",
    "# Helper functions to handle sentences \n",
    "from experiments import decode\n",
    "from experiments import encode_sentence\n",
    "from experiments import decode_sentence\n",
    "\n",
    "import cfg\n",
    "import networks \n",
    "from importlib import reload\n",
    "reload(networks)\n",
    "reload(networks)\n",
    "\n",
    "decodings = load_decodings()\n",
    "encodings = load_encodings()\n",
    "\n",
    "# Generate test sentence\n",
    "corpus = cfg.create_corpus(1)\n",
    "sentence = corpus[0]\n",
    "inputs = encode_sentence(sentence)\n",
    "\n",
    "num_words = len(encodings)\n",
    "architecture = [num_words, 10, num_words]\n",
    "\n",
    "test = networks.RNN(architecture)\n",
    "test.evaluate(inputs)"
   ]
  },
  {
   "cell_type": "code",
   "execution_count": 12,
   "metadata": {
    "collapsed": false
   },
   "outputs": [
    {
     "name": "stdout",
     "output_type": "stream",
     "text": [
      "[[ 1.          0.96402758]]\n"
     ]
    }
   ],
   "source": [
    "import numpy as np\n",
    "\n",
    "t = np.matrix([100,2])\n",
    "print(np.tanh(t))"
   ]
  }
 ],
 "metadata": {
  "anaconda-cloud": {},
  "kernelspec": {
   "display_name": "Python [conda root]",
   "language": "python",
   "name": "conda-root-py"
  },
  "language_info": {
   "codemirror_mode": {
    "name": "ipython",
    "version": 3
   },
   "file_extension": ".py",
   "mimetype": "text/x-python",
   "name": "python",
   "nbconvert_exporter": "python",
   "pygments_lexer": "ipython3",
   "version": "3.5.2"
  }
 },
 "nbformat": 4,
 "nbformat_minor": 1
}

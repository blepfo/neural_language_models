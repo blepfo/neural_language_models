{
 "cells": [
  {
   "cell_type": "code",
   "execution_count": 6,
   "metadata": {
    "collapsed": false,
    "scrolled": true
   },
   "outputs": [
    {
     "name": "stdout",
     "output_type": "stream",
     "text": [
      "cat feeds mary\n",
      "mary lives\n",
      "dog lives\n",
      "boy lives\n",
      "girls who dogs feed chase girls\n",
      "cat chases mary\n",
      "boy feeds dog\n",
      "boys hear\n",
      "cats walk\n",
      "cats who cats who feed dogs hear hear cats who see\n",
      "cat who feeds mary sees mary\n",
      "cats hear\n",
      "girls who chase girls live\n",
      "dog who feeds mary walks\n",
      "cat who chases john sees\n",
      "dogs hear\n",
      "girl who boy sees lives\n",
      "john walks\n",
      "cat hears\n",
      "boys who live walk\n",
      "dogs hear\n",
      "mary sees\n",
      "girls hear\n",
      "cats who feed cats who boys who see boys who dogs see chase see\n",
      "cat chases dog\n",
      "girl lives\n",
      "girl chases boy who john sees\n",
      "cats who live hear\n",
      "dogs see boys\n",
      "cats see girls who chase boys\n",
      "boys hear\n",
      "cat sees\n",
      "girls hear boys\n",
      "boys who dogs hear hear girls who boys who chase dogs who hear hear\n",
      "dogs who boys who hear boys who girls who hear girls who girls who live hear see hear feed dogs who see\n",
      "dogs see\n",
      "boys see cats who cats chase\n",
      "girls who boys who cats who dogs feed hear see feed cats\n",
      "cats who boys who boys chase chase live\n",
      "girls hear\n",
      "dog lives\n",
      "boy hears\n",
      "girls who see walk\n",
      "girls chase dogs\n",
      "mary chases john\n",
      "john hears john\n",
      "girl who sees cat hears dog who mary feeds\n",
      "girls who boys feed see\n",
      "girls who cats who walk see chase girls who boys feed\n",
      "girls who boys hear live\n"
     ]
    }
   ],
   "source": [
    "import tong_cfg\n",
    "from importlib import reload\n",
    "reload(tong_cfg)\n",
    "reload(tong_cfg)\n",
    "\n",
    "test = tong_cfg.create_corpus(50)\n",
    "for sentence in test:\n",
    "    print(tong_cfg.plaintext(sentence))"
   ]
  },
  {
   "cell_type": "code",
   "execution_count": 19,
   "metadata": {
    "collapsed": false
   },
   "outputs": [
    {
     "name": "stdout",
     "output_type": "stream",
     "text": [
      "boys\n",
      "hear\n",
      "START\n",
      "john\n",
      "walk\n",
      "hears\n",
      "feeds\n",
      "girls\n",
      "STOP\n",
      "see\n",
      "cat\n",
      "lives\n",
      "feed\n",
      "chase\n",
      "who\n",
      "live\n",
      "girl\n",
      "sees\n",
      "mary\n",
      "dog\n",
      "boy\n",
      "dogs\n",
      "chases\n",
      "walks\n",
      "cats\n"
     ]
    }
   ],
   "source": [
    "import numpy as np\n",
    "\n",
    "# Helper functions to load pickled data \n",
    "from load_help import load_encodings\n",
    "from load_help import load_decodings\n",
    "from load_help import load_training\n",
    "from load_help import load_testing\n",
    "\n",
    "decodings = load_decodings()\n",
    "encodings = load_encodings()\n",
    "\n",
    "def decode(encoding):\n",
    "    return decodings[np.nonzero(encoding)[0][0]]\n",
    "\n",
    "\n",
    "\n",
    "for key in encodings:\n",
    "    print(decode(encodings[key]))"
   ]
  },
  {
   "cell_type": "code",
   "execution_count": 15,
   "metadata": {
    "collapsed": false
   },
   "outputs": [
    {
     "ename": "KeyError",
     "evalue": "2",
     "output_type": "error",
     "traceback": [
      "\u001b[0;31m---------------------------------------------------------------------------\u001b[0m",
      "\u001b[0;31mKeyError\u001b[0m                                  Traceback (most recent call last)",
      "\u001b[0;32m<ipython-input-15-36659665b18c>\u001b[0m in \u001b[0;36m<module>\u001b[0;34m()\u001b[0m\n\u001b[1;32m      1\u001b[0m \u001b[0mtest\u001b[0m \u001b[1;33m=\u001b[0m \u001b[1;33m{\u001b[0m\u001b[1;34m'a'\u001b[0m\u001b[1;33m:\u001b[0m \u001b[1;36m2\u001b[0m\u001b[1;33m}\u001b[0m\u001b[1;33m\u001b[0m\u001b[0m\n\u001b[0;32m----> 2\u001b[0;31m \u001b[0mprint\u001b[0m\u001b[1;33m(\u001b[0m\u001b[0mtest\u001b[0m\u001b[1;33m[\u001b[0m\u001b[1;36m2\u001b[0m\u001b[1;33m]\u001b[0m\u001b[1;33m)\u001b[0m\u001b[1;33m\u001b[0m\u001b[0m\n\u001b[0m",
      "\u001b[0;31mKeyError\u001b[0m: 2"
     ]
    }
   ],
   "source": [
    "test = {'a': 2}\n",
    "print(test[2])"
   ]
  }
 ],
 "metadata": {
  "anaconda-cloud": {},
  "kernelspec": {
   "display_name": "Python [conda root]",
   "language": "python",
   "name": "conda-root-py"
  },
  "language_info": {
   "codemirror_mode": {
    "name": "ipython",
    "version": 3
   },
   "file_extension": ".py",
   "mimetype": "text/x-python",
   "name": "python",
   "nbconvert_exporter": "python",
   "pygments_lexer": "ipython3",
   "version": "3.5.2"
  }
 },
 "nbformat": 4,
 "nbformat_minor": 1
}
